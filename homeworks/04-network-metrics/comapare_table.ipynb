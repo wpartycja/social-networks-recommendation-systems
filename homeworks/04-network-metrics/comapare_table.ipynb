{
 "cells": [
  {
   "cell_type": "code",
   "execution_count": 1,
   "metadata": {},
   "outputs": [],
   "source": [
    "import networkx as nx\n",
    "import numpy as np\n",
    "import powerlaw  \n",
    "from tabulate import tabulate  \n",
    "import os\n",
    "from pprint import pprint"
   ]
  },
  {
   "cell_type": "markdown",
   "metadata": {},
   "source": [
    "## P4.7 (2.5 points)"
   ]
  },
  {
   "cell_type": "code",
   "execution_count": 2,
   "metadata": {},
   "outputs": [],
   "source": [
    "def get_graph(graph_filepath: str):\n",
    "    G = None\n",
    "    if graph_filepath.endswith('.mtx'):\n",
    "        G = nx.read_adjlist(graph_filepath)  \n",
    "    elif graph_filepath.endswith('.edges'):\n",
    "        G = nx.read_edgelist(graph_filepath)\n",
    "    else:\n",
    "        ValueError(\"Wrong graph type!\")\n",
    "        \n",
    "    return G \n"
   ]
  },
  {
   "cell_type": "code",
   "execution_count": null,
   "metadata": {},
   "outputs": [],
   "source": [
    "import networkx as nx\n",
    "import powerlaw\n",
    "import numpy as np\n",
    "import matplotlib.pyplot as plt\n",
    "\n",
    "def calculate_network_metrics(G, name):\n",
    "    N = G.number_of_nodes()\n",
    "    E = G.number_of_edges()\n",
    "    avg_degree = sum(dict(G.degree()).values()) / N\n",
    "    assortativity = nx.degree_assortativity_coefficient(G)\n",
    "    \n",
    "    if nx.is_connected(G):\n",
    "        avg_shortest_path_length = nx.average_shortest_path_length(G)\n",
    "    else:\n",
    "        largest_cc = max(nx.connected_components(G), key=len)\n",
    "        subgraph = G.subgraph(largest_cc).copy()\n",
    "        avg_shortest_path_length = nx.average_shortest_path_length(subgraph)\n",
    "\n",
    "    degrees = [d for _, d in G.degree()]\n",
    "    \n",
    "    try:\n",
    "        fit = powerlaw.Fit(degrees, discrete=True)\n",
    "        is_power_law = fit.distribution_compare('power_law', 'exponential')[0] > 0\n",
    "        alpha = fit.power_law.alpha if is_power_law else None\n",
    "    except Exception:\n",
    "        alpha = None  \n",
    "    \n",
    "    return {\n",
    "        \"Network's Name\": name,\n",
    "        \"N\": N,\n",
    "        \"E\": E,\n",
    "        \"⟨k⟩\": round(avg_degree, 2),\n",
    "        \"α\": round(alpha, 2) if alpha else \"Not a power-law\",\n",
    "        \"ℓ\": round(avg_shortest_path_length, 2),\n",
    "        \"r\": round(assortativity, 2)\n",
    "    }\n",
    "\n"
   ]
  },
  {
   "cell_type": "code",
   "execution_count": 14,
   "metadata": {},
   "outputs": [
    {
     "name": "stdout",
     "output_type": "stream",
     "text": [
      "{'bn-cat-mixed-species_brain_1': './graphs/bn-cat-mixed-species_brain_1.edges',\n",
      " 'ca-GrQc': './graphs/ca-GrQc.mtx',\n",
      " 'ca-sandi_auths': './graphs/ca-sandi_auths.mtx',\n",
      " 'inf-USAir97': './graphs/inf-USAir97.mtx',\n",
      " 'road-chesapeake': './graphs/road-chesapeake.mtx'}\n"
     ]
    }
   ],
   "source": [
    "directory_path = './graphs/' \n",
    "networks = dict()\n",
    "\n",
    "for filename in os.listdir(directory_path):\n",
    "    file_path = os.path.join(directory_path, filename)\n",
    "    \n",
    "    if os.path.isfile(file_path):\n",
    "        networks[filename.split('.')[0]] = file_path\n",
    "\n",
    "pprint(networks)"
   ]
  },
  {
   "cell_type": "markdown",
   "metadata": {},
   "source": [
    "**Assortativity Interpretation (r)**:\n",
    "- *Positive r*: Nodes tend to connect to nodes with similar degrees (e.g., social networks).\n",
    "- *Negative r*: High-degree nodes tend to connect with low-degree nodes (e.g., some biological or technological networks)."
   ]
  },
  {
   "cell_type": "markdown",
   "metadata": {},
   "source": [
    "**ℓ** - Average Path Length"
   ]
  },
  {
   "cell_type": "code",
   "execution_count": 15,
   "metadata": {},
   "outputs": [],
   "source": [
    "def add_original_metrics(name, N, E, k, alpha, l, r):\n",
    "    return {\n",
    "        \"Network's Name\": name,\n",
    "        \"N\": N,\n",
    "        \"E\": E,\n",
    "        \"⟨k⟩\": k,\n",
    "        \"α\": alpha,\n",
    "        \"ℓ\": l,\n",
    "        \"r\": r\n",
    "    }\n",
    "\n",
    "original_metrics = [\n",
    "    ['ca-GrQc', 5_000, 14_000, 5, '-', '-', 0.66],\n",
    "    ['road-chesapeake', 39, 170, 8, '-', '-', -0.37],\n",
    "    ['bn-cat-mixed-species_brain_1', 65, 1_100, 35, '-', '-', 0.01],\n",
    "    ['ca-sandi_auths', 86, 124, 2, '-', '-', -0.25],\n",
    "    ['inf-USAir97', 332, 2_100, 12, '-', '-', -0.20]\n",
    "]\n",
    "\n",
    "final_original_metrics = []\n",
    "\n",
    "for metric in original_metrics:\n",
    "    final_original_metrics.append(add_original_metrics(*metric))"
   ]
  },
  {
   "cell_type": "code",
   "execution_count": null,
   "metadata": {},
   "outputs": [
    {
     "name": "stderr",
     "output_type": "stream",
     "text": [
      " 20%|██        | 1/5 [00:05<00:23,  5.80s/it]"
     ]
    },
    {
     "name": "stdout",
     "output_type": "stream",
     "text": [
      "Calculating best minimal value for power law fit\n",
      "Calculating best minimal value for power law fit\n",
      "Calculating best minimal value for power law fit\n",
      "Calculating best minimal value for power law fit\n",
      "xmin progress: 91%\r"
     ]
    },
    {
     "name": "stderr",
     "output_type": "stream",
     "text": [
      "Values less than or equal to 0 in data. Throwing out 0 or negative values\n",
      "100%|██████████| 5/5 [00:06<00:00,  1.30s/it]"
     ]
    },
    {
     "name": "stdout",
     "output_type": "stream",
     "text": [
      "Calculating best minimal value for power law fit\n",
      "╒══════════════════════════════╤══════╤═══════╤═══════╤═════════════════╤══════╤═══════╕\n",
      "│ Network's Name               │    N │     E │   ⟨k⟩ │ α               │    ℓ │     r │\n",
      "╞══════════════════════════════╪══════╪═══════╪═══════╪═════════════════╪══════╪═══════╡\n",
      "│ ca-GrQc                      │ 4164 │ 13428 │  6.45 │ 2.04            │ 6.05 │  0.64 │\n",
      "├──────────────────────────────┼──────┼───────┼───────┼─────────────────┼──────┼───────┤\n",
      "│ road-chesapeake              │   45 │   176 │  7.82 │ 3.15            │ 1.85 │ -0.32 │\n",
      "├──────────────────────────────┼──────┼───────┼───────┼─────────────────┼──────┼───────┤\n",
      "│ bn-cat-mixed-species_brain_1 │   65 │   730 │ 22.46 │ Not a power-law │ 1.7  │ -0.03 │\n",
      "├──────────────────────────────┼──────┼───────┼───────┼─────────────────┼──────┼───────┤\n",
      "│ ca-sandi_auths               │   97 │   210 │  4.33 │ 2.53            │ 2.68 │ -0.24 │\n",
      "├──────────────────────────────┼──────┼───────┼───────┼─────────────────┼──────┼───────┤\n",
      "│ inf-USAir97                  │ 1624 │  4323 │  5.32 │ 1.87            │ 3.22 │ -0.2  │\n",
      "╘══════════════════════════════╧══════╧═══════╧═══════╧═════════════════╧══════╧═══════╛\n"
     ]
    },
    {
     "name": "stderr",
     "output_type": "stream",
     "text": [
      "\n"
     ]
    }
   ],
   "source": [
    "from tqdm import tqdm\n",
    "\n",
    "metrics = []\n",
    "for name, graph_path in tqdm(networks.items()):\n",
    "    metrics.append(calculate_network_metrics(get_graph(graph_path), name))\n",
    "    \n",
    "\n",
    "print(tabulate(metrics, headers=\"keys\", tablefmt=\"fancy_grid\"))"
   ]
  },
  {
   "cell_type": "markdown",
   "metadata": {},
   "source": [
    "* road (road-chesapeake) - we can see short path length due to efficient road layout design, which is typical for road graphs. Average degree is rather high which is not that typical, but we have to bear in mind, that this graph is rather small and represents road network of small city. That can also explain negative assorativity coefficient, which also is not that typical for road graphs -maybe it is becuase of that we have here a main road, and others attach to it. "
   ]
  },
  {
   "cell_type": "markdown",
   "metadata": {},
   "source": [
    "* biological (bn-cat-mixed-species_brain_1) - Here we have super dense graphs, which is typical for biological networks, with short path length neutral assortativity. It is all explained by evolutionary optimization for speed and efficiency."
   ]
  },
  {
   "cell_type": "markdown",
   "metadata": {},
   "source": [
    "* social (ca-sandi_auths, ca-GrQc) - here both networks represent social networks, but one is collaboration network while the other represent authorship network. Both of them represent quite high average degree. The main difference is in assorativity - ca-GrQc is strongly assortative, while ca-sandi_auths is disassortative, meaning hubs tend to connect with less-connected nodes. It can be explained with the fact, that  ca-GrQc can have many collaborations between equally active researchers, while ca-sandi_auths can have senior researchers working more with less-experienced ones.  Ca-sandi_auths has much shorter paths, suggesting a more closely-knit structure, what can be explained in the same way."
   ]
  },
  {
   "cell_type": "markdown",
   "metadata": {},
   "source": [
    "* infrastructure (inf-USAir97) - represents rather short paths and hubs, similar to other infrastructure networks. However, it shows slight disassortativity, while road networks typically have more disassortative mixing due to their hierarchical structure. Apparently here major airports often connect with other major airports, leading to a less hierarchical structure, rather than typical,  where major hubs connect to smaller nodes. However, that was the smallest network that was possible to choose on the website, and that can expain this phenomena."
   ]
  },
  {
   "cell_type": "markdown",
   "metadata": {},
   "source": [
    "original information from website:"
   ]
  },
  {
   "cell_type": "code",
   "execution_count": 8,
   "metadata": {},
   "outputs": [
    {
     "name": "stdout",
     "output_type": "stream",
     "text": [
      "╒══════════════════════════════╤══════╤═══════╤═══════╤═════╤═════╤═══════╕\n",
      "│ Network's Name               │    N │     E │   ⟨k⟩ │ α   │ ℓ   │     r │\n",
      "╞══════════════════════════════╪══════╪═══════╪═══════╪═════╪═════╪═══════╡\n",
      "│ ca-GrQc                      │ 5000 │ 14000 │     5 │ -   │ -   │  0.66 │\n",
      "├──────────────────────────────┼──────┼───────┼───────┼─────┼─────┼───────┤\n",
      "│ road-chesapeake              │   39 │   170 │     8 │ -   │ -   │ -0.37 │\n",
      "├──────────────────────────────┼──────┼───────┼───────┼─────┼─────┼───────┤\n",
      "│ bn-cat-mixed-species_brain_1 │   65 │  1100 │    35 │ -   │ -   │  0.01 │\n",
      "├──────────────────────────────┼──────┼───────┼───────┼─────┼─────┼───────┤\n",
      "│ ca-sandi_auths               │   86 │   124 │     2 │ -   │ -   │ -0.25 │\n",
      "├──────────────────────────────┼──────┼───────┼───────┼─────┼─────┼───────┤\n",
      "│ inf-USAir97                  │  332 │  2100 │    12 │ -   │ -   │ -0.2  │\n",
      "╘══════════════════════════════╧══════╧═══════╧═══════╧═════╧═════╧═══════╛\n"
     ]
    }
   ],
   "source": [
    "print(tabulate(final_original_metrics, headers=\"keys\", tablefmt=\"fancy_grid\"))"
   ]
  },
  {
   "cell_type": "markdown",
   "metadata": {},
   "source": [
    "From the comparison with original data we can clearly see, that the data gathered directly from graphs is very similar to the one collected from the website. In case od nodes and edges data from website has its values rounded, that why it is not detailed like to one taken from graphs. Assortativity looks almost the same, but there are some slight differences in average degree."
   ]
  }
 ],
 "metadata": {
  "kernelspec": {
   "display_name": "Python 3",
   "language": "python",
   "name": "python3"
  },
  "language_info": {
   "codemirror_mode": {
    "name": "ipython",
    "version": 3
   },
   "file_extension": ".py",
   "mimetype": "text/x-python",
   "name": "python",
   "nbconvert_exporter": "python",
   "pygments_lexer": "ipython3",
   "version": "3.10.12"
  }
 },
 "nbformat": 4,
 "nbformat_minor": 2
}
