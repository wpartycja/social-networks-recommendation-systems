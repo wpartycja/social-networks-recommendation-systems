{
 "cells": [
  {
   "cell_type": "code",
   "execution_count": 1,
   "metadata": {},
   "outputs": [],
   "source": [
    "import pandas as pd\n",
    "from sklearn.metrics.pairwise import cosine_similarity\n",
    "from sklearn.feature_extraction.text import CountVectorizer\n",
    "import numpy as np\n",
    "import csv\n",
    "from scipy.sparse import csr_matrix\n",
    "from surprise import Dataset, Reader, SVD\n",
    "from surprise.model_selection import train_test_split\n",
    "from surprise import accuracy\n",
    "from preprocess import *\n",
    "from recommendation_system_methods import *\n",
    "import pickle"
   ]
  },
  {
   "cell_type": "code",
   "execution_count": 2,
   "metadata": {},
   "outputs": [
    {
     "name": "stdout",
     "output_type": "stream",
     "text": [
      "DataFrame loaded from pickles/ratings_df.pkl\n",
      "DataFrame loaded from pickles/movies_df.pkl\n",
      "Model loaded from pickles/svd_model.pkl\n"
     ]
    }
   ],
   "source": [
    "ratings_df = load_dataframe_from_pickle('pickles/ratings_df.pkl')\n",
    "movies_df = load_dataframe_from_pickle('pickles/movies_df.pkl')\n",
    "\n",
    "model = load_model_from_pickle('pickles/svd_model.pkl')"
   ]
  },
  {
   "cell_type": "markdown",
   "metadata": {},
   "source": [
    "### Most active users"
   ]
  },
  {
   "cell_type": "code",
   "execution_count": 3,
   "metadata": {},
   "outputs": [
    {
     "name": "stdout",
     "output_type": "stream",
     "text": [
      "Top users by the number of movies seen:\n",
      "user_id\n",
      "305344     1344\n",
      "387418     1339\n",
      "2439493    1324\n",
      "2118461    1305\n",
      "1664010    1257\n",
      "716173     1169\n",
      "1314869    1132\n",
      "2056022    1072\n",
      "1852040    1053\n",
      "2606799    1039\n",
      "dtype: int64\n"
     ]
    }
   ],
   "source": [
    "top_users = top_users_by_movie_count(ratings_df, 10)\n",
    "print(\"Top users by the number of movies seen:\")\n",
    "print(top_users)"
   ]
  },
  {
   "cell_type": "markdown",
   "metadata": {},
   "source": [
    "### Example usage"
   ]
  },
  {
   "cell_type": "code",
   "execution_count": 12,
   "metadata": {},
   "outputs": [
    {
     "name": "stdout",
     "output_type": "stream",
     "text": [
      "Movies already seen by user 305344:\n"
     ]
    },
    {
     "data": {
      "text/html": [
       "<div>\n",
       "<style scoped>\n",
       "    .dataframe tbody tr th:only-of-type {\n",
       "        vertical-align: middle;\n",
       "    }\n",
       "\n",
       "    .dataframe tbody tr th {\n",
       "        vertical-align: top;\n",
       "    }\n",
       "\n",
       "    .dataframe thead th {\n",
       "        text-align: right;\n",
       "    }\n",
       "</style>\n",
       "<table border=\"1\" class=\"dataframe\">\n",
       "  <thead>\n",
       "    <tr style=\"text-align: right;\">\n",
       "      <th></th>\n",
       "      <th>movie_id</th>\n",
       "      <th>title</th>\n",
       "      <th>rating</th>\n",
       "    </tr>\n",
       "  </thead>\n",
       "  <tbody>\n",
       "    <tr>\n",
       "      <th>25</th>\n",
       "      <td>83</td>\n",
       "      <td>Silkwood</td>\n",
       "      <td>5</td>\n",
       "    </tr>\n",
       "    <tr>\n",
       "      <th>56</th>\n",
       "      <td>199</td>\n",
       "      <td>The Deer Hunter</td>\n",
       "      <td>5</td>\n",
       "    </tr>\n",
       "    <tr>\n",
       "      <th>58</th>\n",
       "      <td>208</td>\n",
       "      <td>The Three Stooges: Sing a Song of Six Pants</td>\n",
       "      <td>5</td>\n",
       "    </tr>\n",
       "    <tr>\n",
       "      <th>66</th>\n",
       "      <td>238</td>\n",
       "      <td>Led Zeppelin: The Song Remains the Same</td>\n",
       "      <td>5</td>\n",
       "    </tr>\n",
       "    <tr>\n",
       "      <th>103</th>\n",
       "      <td>344</td>\n",
       "      <td>The Taming of the Shrew</td>\n",
       "      <td>5</td>\n",
       "    </tr>\n",
       "    <tr>\n",
       "      <th>...</th>\n",
       "      <td>...</td>\n",
       "      <td>...</td>\n",
       "      <td>...</td>\n",
       "    </tr>\n",
       "    <tr>\n",
       "      <th>1259</th>\n",
       "      <td>4219</td>\n",
       "      <td>The Tuskegee Airmen</td>\n",
       "      <td>5</td>\n",
       "    </tr>\n",
       "    <tr>\n",
       "      <th>1272</th>\n",
       "      <td>4266</td>\n",
       "      <td>The Passion of the Christ</td>\n",
       "      <td>5</td>\n",
       "    </tr>\n",
       "    <tr>\n",
       "      <th>1284</th>\n",
       "      <td>4302</td>\n",
       "      <td>An Officer and a Gentleman</td>\n",
       "      <td>5</td>\n",
       "    </tr>\n",
       "    <tr>\n",
       "      <th>1309</th>\n",
       "      <td>4386</td>\n",
       "      <td>The Return of the Living Dead</td>\n",
       "      <td>5</td>\n",
       "    </tr>\n",
       "    <tr>\n",
       "      <th>1325</th>\n",
       "      <td>4432</td>\n",
       "      <td>The Italian Job</td>\n",
       "      <td>5</td>\n",
       "    </tr>\n",
       "  </tbody>\n",
       "</table>\n",
       "<p>81 rows × 3 columns</p>\n",
       "</div>"
      ],
      "text/plain": [
       "      movie_id                                        title  rating\n",
       "25          83                                     Silkwood       5\n",
       "56         199                              The Deer Hunter       5\n",
       "58         208  The Three Stooges: Sing a Song of Six Pants       5\n",
       "66         238      Led Zeppelin: The Song Remains the Same       5\n",
       "103        344                      The Taming of the Shrew       5\n",
       "...        ...                                          ...     ...\n",
       "1259      4219                          The Tuskegee Airmen       5\n",
       "1272      4266                    The Passion of the Christ       5\n",
       "1284      4302                   An Officer and a Gentleman       5\n",
       "1309      4386                The Return of the Living Dead       5\n",
       "1325      4432                              The Italian Job       5\n",
       "\n",
       "[81 rows x 3 columns]"
      ]
     },
     "execution_count": 12,
     "metadata": {},
     "output_type": "execute_result"
    }
   ],
   "source": [
    "user_id = 305344  \n",
    "num_recommendations = 5\n",
    "\n",
    "# Display movies the user has already seen\n",
    "seen_movies_df = seen_movies(user_id, ratings_df, movies_df)\n",
    "print(f\"Movies already seen by user {user_id}:\")\n",
    "seen_movies_df.head()\n",
    "\n",
    "seen_movies_df[seen_movies_df['rating'] == 5]"
   ]
  },
  {
   "cell_type": "code",
   "execution_count": 13,
   "metadata": {},
   "outputs": [
    {
     "name": "stdout",
     "output_type": "stream",
     "text": [
      "Top 5 recommendations for user 305344:\n"
     ]
    },
    {
     "data": {
      "text/html": [
       "<div>\n",
       "<style scoped>\n",
       "    .dataframe tbody tr th:only-of-type {\n",
       "        vertical-align: middle;\n",
       "    }\n",
       "\n",
       "    .dataframe tbody tr th {\n",
       "        vertical-align: top;\n",
       "    }\n",
       "\n",
       "    .dataframe thead th {\n",
       "        text-align: right;\n",
       "    }\n",
       "</style>\n",
       "<table border=\"1\" class=\"dataframe\">\n",
       "  <thead>\n",
       "    <tr style=\"text-align: right;\">\n",
       "      <th></th>\n",
       "      <th>movie_id</th>\n",
       "      <th>title</th>\n",
       "      <th>estimated_rating</th>\n",
       "    </tr>\n",
       "  </thead>\n",
       "  <tbody>\n",
       "    <tr>\n",
       "      <th>0</th>\n",
       "      <td>3153</td>\n",
       "      <td>Doctor Zhivago</td>\n",
       "      <td>3.176996</td>\n",
       "    </tr>\n",
       "    <tr>\n",
       "      <th>1</th>\n",
       "      <td>2251</td>\n",
       "      <td>The Rookie</td>\n",
       "      <td>3.084893</td>\n",
       "    </tr>\n",
       "    <tr>\n",
       "      <th>2</th>\n",
       "      <td>886</td>\n",
       "      <td>Ray</td>\n",
       "      <td>2.889629</td>\n",
       "    </tr>\n",
       "    <tr>\n",
       "      <th>3</th>\n",
       "      <td>3309</td>\n",
       "      <td>The Pledge</td>\n",
       "      <td>2.862669</td>\n",
       "    </tr>\n",
       "    <tr>\n",
       "      <th>4</th>\n",
       "      <td>3680</td>\n",
       "      <td>Hackers</td>\n",
       "      <td>2.178755</td>\n",
       "    </tr>\n",
       "  </tbody>\n",
       "</table>\n",
       "</div>"
      ],
      "text/plain": [
       "   movie_id           title  estimated_rating\n",
       "0      3153  Doctor Zhivago          3.176996\n",
       "1      2251      The Rookie          3.084893\n",
       "2       886             Ray          2.889629\n",
       "3      3309      The Pledge          2.862669\n",
       "4      3680         Hackers          2.178755"
      ]
     },
     "execution_count": 13,
     "metadata": {},
     "output_type": "execute_result"
    }
   ],
   "source": [
    "# Get recommendations\n",
    "recommendations = recommend_movies(ratings_df, movies_df, user_id, model, 5)\n",
    "\n",
    "# Display recommendations\n",
    "print(f\"Top {num_recommendations} recommendations for user {user_id}:\")\n",
    "recommendations\n"
   ]
  }
 ],
 "metadata": {
  "kernelspec": {
   "display_name": "Python 3",
   "language": "python",
   "name": "python3"
  },
  "language_info": {
   "codemirror_mode": {
    "name": "ipython",
    "version": 3
   },
   "file_extension": ".py",
   "mimetype": "text/x-python",
   "name": "python",
   "nbconvert_exporter": "python",
   "pygments_lexer": "ipython3",
   "version": "3.10.12"
  }
 },
 "nbformat": 4,
 "nbformat_minor": 2
}
